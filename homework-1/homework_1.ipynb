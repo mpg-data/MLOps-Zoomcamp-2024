{
 "cells": [
  {
   "cell_type": "markdown",
   "metadata": {},
   "source": [
    "# Importes"
   ]
  },
  {
   "cell_type": "code",
   "execution_count": null,
   "metadata": {},
   "outputs": [],
   "source": [
    "import pandas as pd\n",
    "\n",
    "from sklearn.feature_extraction import DictVectorizer\n",
    "from sklearn.linear_model import LinearRegression\n",
    "from sklearn.metrics import root_mean_squared_error"
   ]
  },
  {
   "cell_type": "markdown",
   "metadata": {},
   "source": [
    "# Ejecución del proceso"
   ]
  },
  {
   "cell_type": "code",
   "execution_count": null,
   "metadata": {},
   "outputs": [],
   "source": [
    "# Carga de datos\n",
    "df_enero = pd.read_parquet(\"./DATA/yellow_tripdata_2023-01.parquet\")\n",
    "df_febrero = pd.read_parquet(\"./DATA/yellow_tripdata_2023-02.parquet\")"
   ]
  },
  {
   "cell_type": "markdown",
   "metadata": {},
   "source": [
    "## Q1. Downloading the data"
   ]
  },
  {
   "cell_type": "code",
   "execution_count": null,
   "metadata": {},
   "outputs": [],
   "source": [
    "df_enero.shape[1]"
   ]
  },
  {
   "cell_type": "markdown",
   "metadata": {},
   "source": [
    "## Q2. Computing duration"
   ]
  },
  {
   "cell_type": "code",
   "execution_count": null,
   "metadata": {},
   "outputs": [],
   "source": [
    "# Computing 'duration' column\n",
    "df_enero[\"duration\"] = (df_enero[\"tpep_dropoff_datetime\"] - df_enero[\"tpep_pickup_datetime\"]).dt.total_seconds()\n",
    "df_enero[\"duration\"] = (df_enero[\"duration\"] / 60).round(2)"
   ]
  },
  {
   "cell_type": "code",
   "execution_count": null,
   "metadata": {},
   "outputs": [],
   "source": [
    "# Standard deviation of 'duration'\n",
    "df_enero[\"duration\"].std().round(2)"
   ]
  },
  {
   "cell_type": "markdown",
   "metadata": {},
   "source": [
    "## Q3. Dropping outliers"
   ]
  },
  {
   "cell_type": "code",
   "execution_count": null,
   "metadata": {},
   "outputs": [],
   "source": [
    "# Eliminación de datos atípicos\n",
    "df_enero_no_atipicos = df_enero[df_enero[\"duration\"].between(1, 60, inclusive = \"both\")]\n",
    "\n",
    "# Proporción de datos no atípicos restantes\n",
    "prop_datos_no_atipicos = df_enero_no_atipicos.shape[0] / df_enero.shape[0]\n",
    "print(f'{prop_datos_no_atipicos:.2%}')"
   ]
  },
  {
   "cell_type": "markdown",
   "metadata": {},
   "source": [
    "## Q4. One-hot encoding"
   ]
  },
  {
   "cell_type": "code",
   "execution_count": null,
   "metadata": {},
   "outputs": [],
   "source": [
    "# Conversión de variables categóricas a cadenas\n",
    "cols_categoricas = [\"PULocationID\", \"DOLocationID\"]\n",
    "\n",
    "df_enero_no_atipicos[cols_categoricas] = df_enero_no_atipicos[cols_categoricas].fillna(-1)\\\n",
    "    .astype('int').astype('str')\n",
    "\n",
    "# Selección de variables explicativas y de respuesta\n",
    "df_entrenamiento = df_enero_no_atipicos[cols_categoricas]"
   ]
  },
  {
   "cell_type": "code",
   "execution_count": null,
   "metadata": {},
   "outputs": [],
   "source": [
    "# Conversión del dataframe en una lista de diccionarios\n",
    "dicc_df_entrenamiento = df_entrenamiento.to_dict(orient = \"records\")"
   ]
  },
  {
   "cell_type": "code",
   "execution_count": null,
   "metadata": {},
   "outputs": [],
   "source": [
    "# Ajustar vectorizador de diccionarios (DictVectorizer) a datos de entrenamiento\n",
    "vectorizador_dicc = DictVectorizer(sparse = False)\n",
    "X_entrenamiento = vectorizador_dicc.fit_transform(dicc_df_entrenamiento)"
   ]
  },
  {
   "cell_type": "code",
   "execution_count": null,
   "metadata": {},
   "outputs": [],
   "source": [
    "# Dimensionalidad de columnas de la matriz de características\n",
    "X_entrenamiento.shape[1]"
   ]
  },
  {
   "cell_type": "markdown",
   "metadata": {},
   "source": [
    "## Q5. Training a model"
   ]
  },
  {
   "cell_type": "code",
   "execution_count": null,
   "metadata": {},
   "outputs": [],
   "source": [
    "# Entrenamiento\n",
    "model = LinearRegression(n_jobs = -1)\n",
    "model.fit(X = X_entrenamiento, y = df_enero_no_atipicos[\"duration\"])\n",
    "\n",
    "# Predicción con datos de entrenamiento\n",
    "Y_pred_entrenamiento = model.predict(X_entrenamiento)"
   ]
  },
  {
   "cell_type": "code",
   "execution_count": null,
   "metadata": {},
   "outputs": [],
   "source": [
    "root_mean_squared_error(y_true = df_enero_no_atipicos[\"duration\"], y_pred = Y_pred_entrenamiento)"
   ]
  }
 ],
 "metadata": {
  "kernelspec": {
   "display_name": "MLOps-Zoomcamp-2024-ueay1RHE",
   "language": "python",
   "name": "python3"
  },
  "language_info": {
   "codemirror_mode": {
    "name": "ipython",
    "version": 3
   },
   "file_extension": ".py",
   "mimetype": "text/x-python",
   "name": "python",
   "nbconvert_exporter": "python",
   "pygments_lexer": "ipython3",
   "version": "3.11.9"
  }
 },
 "nbformat": 4,
 "nbformat_minor": 2
}
